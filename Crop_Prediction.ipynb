{
 "cells": [
  {
   "cell_type": "code",
   "execution_count": 32,
   "metadata": {
    "id": "EzzbyiEEUTDt"
   },
   "outputs": [],
   "source": [
    "#importing the required libraries\n",
    "import pandas as pd\n",
    "import numpy as np\n",
    "from sklearn.model_selection import train_test_split\n",
    "# import matplotlib.pyplot as plt\n",
    "# %matplotlib inline"
   ]
  },
  {
   "cell_type": "code",
   "execution_count": 33,
   "metadata": {
    "colab": {
     "base_uri": "https://localhost:8080/"
    },
    "id": "sYT8P0LQUXfL",
    "outputId": "09938a0c-a8df-44b3-b94a-e11bc01aab59"
   },
   "outputs": [
    {
     "data": {
      "text/html": [
       "<div>\n",
       "<style scoped>\n",
       "    .dataframe tbody tr th:only-of-type {\n",
       "        vertical-align: middle;\n",
       "    }\n",
       "\n",
       "    .dataframe tbody tr th {\n",
       "        vertical-align: top;\n",
       "    }\n",
       "\n",
       "    .dataframe thead th {\n",
       "        text-align: right;\n",
       "    }\n",
       "</style>\n",
       "<table border=\"1\" class=\"dataframe\">\n",
       "  <thead>\n",
       "    <tr style=\"text-align: right;\">\n",
       "      <th></th>\n",
       "      <th>temperature</th>\n",
       "      <th>humidity</th>\n",
       "      <th>AvN%(dry)</th>\n",
       "      <th>AvP%(dry)</th>\n",
       "      <th>AvK%(dry)</th>\n",
       "      <th>moisture</th>\n",
       "      <th>season</th>\n",
       "      <th>rainfall</th>\n",
       "      <th>label</th>\n",
       "    </tr>\n",
       "  </thead>\n",
       "  <tbody>\n",
       "    <tr>\n",
       "      <th>0</th>\n",
       "      <td>20.879744</td>\n",
       "      <td>82.002744</td>\n",
       "      <td>1.364771</td>\n",
       "      <td>0.109570</td>\n",
       "      <td>0.747573</td>\n",
       "      <td>6.502985</td>\n",
       "      <td>2</td>\n",
       "      <td>202.935536</td>\n",
       "      <td>rice</td>\n",
       "    </tr>\n",
       "    <tr>\n",
       "      <th>1</th>\n",
       "      <td>21.770462</td>\n",
       "      <td>80.319644</td>\n",
       "      <td>2.479714</td>\n",
       "      <td>0.267857</td>\n",
       "      <td>0.000000</td>\n",
       "      <td>7.038096</td>\n",
       "      <td>2</td>\n",
       "      <td>226.655537</td>\n",
       "      <td>rice</td>\n",
       "    </tr>\n",
       "    <tr>\n",
       "      <th>2</th>\n",
       "      <td>23.004459</td>\n",
       "      <td>82.320763</td>\n",
       "      <td>2.144000</td>\n",
       "      <td>0.200000</td>\n",
       "      <td>1.490000</td>\n",
       "      <td>7.840207</td>\n",
       "      <td>2</td>\n",
       "      <td>263.964248</td>\n",
       "      <td>rice</td>\n",
       "    </tr>\n",
       "    <tr>\n",
       "      <th>3</th>\n",
       "      <td>26.491096</td>\n",
       "      <td>80.158363</td>\n",
       "      <td>3.322074</td>\n",
       "      <td>0.310556</td>\n",
       "      <td>2.800000</td>\n",
       "      <td>6.980401</td>\n",
       "      <td>2</td>\n",
       "      <td>242.864034</td>\n",
       "      <td>rice</td>\n",
       "    </tr>\n",
       "    <tr>\n",
       "      <th>4</th>\n",
       "      <td>20.130175</td>\n",
       "      <td>81.604873</td>\n",
       "      <td>2.417709</td>\n",
       "      <td>0.271054</td>\n",
       "      <td>1.897747</td>\n",
       "      <td>7.628473</td>\n",
       "      <td>1</td>\n",
       "      <td>262.717340</td>\n",
       "      <td>rice</td>\n",
       "    </tr>\n",
       "  </tbody>\n",
       "</table>\n",
       "</div>"
      ],
      "text/plain": [
       "   temperature   humidity  AvN%(dry)  AvP%(dry)  AvK%(dry)  moisture  season  \\\n",
       "0    20.879744  82.002744   1.364771   0.109570   0.747573  6.502985       2   \n",
       "1    21.770462  80.319644   2.479714   0.267857   0.000000  7.038096       2   \n",
       "2    23.004459  82.320763   2.144000   0.200000   1.490000  7.840207       2   \n",
       "3    26.491096  80.158363   3.322074   0.310556   2.800000  6.980401       2   \n",
       "4    20.130175  81.604873   2.417709   0.271054   1.897747  7.628473       1   \n",
       "\n",
       "     rainfall label  \n",
       "0  202.935536  rice  \n",
       "1  226.655537  rice  \n",
       "2  263.964248  rice  \n",
       "3  242.864034  rice  \n",
       "4  262.717340  rice  "
      ]
     },
     "execution_count": 33,
     "metadata": {},
     "output_type": "execute_result"
    }
   ],
   "source": [
    "#Reading the csv file\n",
    "data=pd.read_csv('cpdata.csv')\n",
    "data.head()"
   ]
  },
  {
   "cell_type": "code",
   "execution_count": 34,
   "metadata": {},
   "outputs": [
    {
     "data": {
      "text/plain": [
       "(3100, 9)"
      ]
     },
     "execution_count": 34,
     "metadata": {},
     "output_type": "execute_result"
    }
   ],
   "source": [
    "data.shape"
   ]
  },
  {
   "cell_type": "code",
   "execution_count": 35,
   "metadata": {},
   "outputs": [
    {
     "data": {
      "text/html": [
       "<div>\n",
       "<style scoped>\n",
       "    .dataframe tbody tr th:only-of-type {\n",
       "        vertical-align: middle;\n",
       "    }\n",
       "\n",
       "    .dataframe tbody tr th {\n",
       "        vertical-align: top;\n",
       "    }\n",
       "\n",
       "    .dataframe thead th {\n",
       "        text-align: right;\n",
       "    }\n",
       "</style>\n",
       "<table border=\"1\" class=\"dataframe\">\n",
       "  <thead>\n",
       "    <tr style=\"text-align: right;\">\n",
       "      <th></th>\n",
       "      <th>temperature</th>\n",
       "      <th>humidity</th>\n",
       "      <th>AvN%(dry)</th>\n",
       "      <th>AvP%(dry)</th>\n",
       "      <th>AvK%(dry)</th>\n",
       "      <th>moisture</th>\n",
       "      <th>season</th>\n",
       "      <th>rainfall</th>\n",
       "    </tr>\n",
       "  </thead>\n",
       "  <tbody>\n",
       "    <tr>\n",
       "      <th>count</th>\n",
       "      <td>3100.000000</td>\n",
       "      <td>3100.000000</td>\n",
       "      <td>3100.000000</td>\n",
       "      <td>3100.000000</td>\n",
       "      <td>3100.000000</td>\n",
       "      <td>3100.000000</td>\n",
       "      <td>3100.000000</td>\n",
       "      <td>3100.000000</td>\n",
       "    </tr>\n",
       "    <tr>\n",
       "      <th>mean</th>\n",
       "      <td>27.108466</td>\n",
       "      <td>66.005312</td>\n",
       "      <td>2.064052</td>\n",
       "      <td>0.229835</td>\n",
       "      <td>1.376293</td>\n",
       "      <td>6.368913</td>\n",
       "      <td>1.502581</td>\n",
       "      <td>110.213031</td>\n",
       "    </tr>\n",
       "    <tr>\n",
       "      <th>std</th>\n",
       "      <td>7.566308</td>\n",
       "      <td>24.007713</td>\n",
       "      <td>1.111719</td>\n",
       "      <td>0.171839</td>\n",
       "      <td>1.204573</td>\n",
       "      <td>0.809477</td>\n",
       "      <td>0.500074</td>\n",
       "      <td>64.048562</td>\n",
       "    </tr>\n",
       "    <tr>\n",
       "      <th>min</th>\n",
       "      <td>8.825675</td>\n",
       "      <td>10.034048</td>\n",
       "      <td>0.000000</td>\n",
       "      <td>0.000000</td>\n",
       "      <td>0.000000</td>\n",
       "      <td>3.504752</td>\n",
       "      <td>1.000000</td>\n",
       "      <td>20.211267</td>\n",
       "    </tr>\n",
       "    <tr>\n",
       "      <th>25%</th>\n",
       "      <td>22.810495</td>\n",
       "      <td>55.244920</td>\n",
       "      <td>1.205213</td>\n",
       "      <td>0.099338</td>\n",
       "      <td>0.000000</td>\n",
       "      <td>5.895343</td>\n",
       "      <td>1.000000</td>\n",
       "      <td>64.909095</td>\n",
       "    </tr>\n",
       "    <tr>\n",
       "      <th>50%</th>\n",
       "      <td>26.102848</td>\n",
       "      <td>68.980529</td>\n",
       "      <td>1.960000</td>\n",
       "      <td>0.228717</td>\n",
       "      <td>1.375117</td>\n",
       "      <td>6.342518</td>\n",
       "      <td>2.000000</td>\n",
       "      <td>97.057093</td>\n",
       "    </tr>\n",
       "    <tr>\n",
       "      <th>75%</th>\n",
       "      <td>29.365644</td>\n",
       "      <td>84.446524</td>\n",
       "      <td>2.736000</td>\n",
       "      <td>0.329009</td>\n",
       "      <td>2.119199</td>\n",
       "      <td>6.841616</td>\n",
       "      <td>2.000000</td>\n",
       "      <td>141.210784</td>\n",
       "    </tr>\n",
       "    <tr>\n",
       "      <th>max</th>\n",
       "      <td>54.986760</td>\n",
       "      <td>99.981876</td>\n",
       "      <td>6.567758</td>\n",
       "      <td>1.244510</td>\n",
       "      <td>6.750000</td>\n",
       "      <td>9.935091</td>\n",
       "      <td>2.000000</td>\n",
       "      <td>397.315380</td>\n",
       "    </tr>\n",
       "  </tbody>\n",
       "</table>\n",
       "</div>"
      ],
      "text/plain": [
       "       temperature     humidity    AvN%(dry)    AvP%(dry)    AvK%(dry)  \\\n",
       "count  3100.000000  3100.000000  3100.000000  3100.000000  3100.000000   \n",
       "mean     27.108466    66.005312     2.064052     0.229835     1.376293   \n",
       "std       7.566308    24.007713     1.111719     0.171839     1.204573   \n",
       "min       8.825675    10.034048     0.000000     0.000000     0.000000   \n",
       "25%      22.810495    55.244920     1.205213     0.099338     0.000000   \n",
       "50%      26.102848    68.980529     1.960000     0.228717     1.375117   \n",
       "75%      29.365644    84.446524     2.736000     0.329009     2.119199   \n",
       "max      54.986760    99.981876     6.567758     1.244510     6.750000   \n",
       "\n",
       "          moisture       season     rainfall  \n",
       "count  3100.000000  3100.000000  3100.000000  \n",
       "mean      6.368913     1.502581   110.213031  \n",
       "std       0.809477     0.500074    64.048562  \n",
       "min       3.504752     1.000000    20.211267  \n",
       "25%       5.895343     1.000000    64.909095  \n",
       "50%       6.342518     2.000000    97.057093  \n",
       "75%       6.841616     2.000000   141.210784  \n",
       "max       9.935091     2.000000   397.315380  "
      ]
     },
     "execution_count": 35,
     "metadata": {},
     "output_type": "execute_result"
    }
   ],
   "source": [
    "data.describe()"
   ]
  },
  {
   "cell_type": "code",
   "execution_count": 36,
   "metadata": {},
   "outputs": [
    {
     "name": "stdout",
     "output_type": "stream",
     "text": [
      "<class 'pandas.core.frame.DataFrame'>\n",
      "RangeIndex: 3100 entries, 0 to 3099\n",
      "Data columns (total 9 columns):\n",
      " #   Column       Non-Null Count  Dtype  \n",
      "---  ------       --------------  -----  \n",
      " 0   temperature  3100 non-null   float64\n",
      " 1   humidity     3100 non-null   float64\n",
      " 2   AvN%(dry)    3100 non-null   float64\n",
      " 3   AvP%(dry)    3100 non-null   float64\n",
      " 4   AvK%(dry)    3100 non-null   float64\n",
      " 5   moisture     3100 non-null   float64\n",
      " 6   season       3100 non-null   int64  \n",
      " 7   rainfall     3100 non-null   float64\n",
      " 8   label        3100 non-null   object \n",
      "dtypes: float64(7), int64(1), object(1)\n",
      "memory usage: 218.1+ KB\n"
     ]
    }
   ],
   "source": [
    "data.info()"
   ]
  },
  {
   "cell_type": "code",
   "execution_count": 37,
   "metadata": {},
   "outputs": [
    {
     "data": {
      "text/plain": [
       "temperature    0\n",
       "humidity       0\n",
       "AvN%(dry)      0\n",
       "AvP%(dry)      0\n",
       "AvK%(dry)      0\n",
       "moisture       0\n",
       "season         0\n",
       "rainfall       0\n",
       "label          0\n",
       "dtype: int64"
      ]
     },
     "execution_count": 37,
     "metadata": {},
     "output_type": "execute_result"
    }
   ],
   "source": [
    "data.isnull().sum()"
   ]
  },
  {
   "cell_type": "code",
   "execution_count": 38,
   "metadata": {},
   "outputs": [
    {
     "data": {
      "text/plain": [
       "temperature    3000\n",
       "humidity       3100\n",
       "AvN%(dry)       593\n",
       "AvP%(dry)       394\n",
       "AvK%(dry)       433\n",
       "moisture       3100\n",
       "season            2\n",
       "rainfall       3100\n",
       "label            31\n",
       "dtype: int64"
      ]
     },
     "execution_count": 38,
     "metadata": {},
     "output_type": "execute_result"
    }
   ],
   "source": [
    "data.apply(lambda x: len(x.unique()))"
   ]
  },
  {
   "cell_type": "code",
   "execution_count": 39,
   "metadata": {
    "scrolled": true
   },
   "outputs": [
    {
     "data": {
      "text/plain": [
       "watermelon      100\n",
       "Mung Bean       100\n",
       "Tobacco         100\n",
       "Black gram      100\n",
       "banana          100\n",
       "Tea             100\n",
       "rice            100\n",
       "muskmelon       100\n",
       "Coffee          100\n",
       "Sugarcane       100\n",
       "wheat           100\n",
       "Cotton          100\n",
       "apple           100\n",
       "grapes          100\n",
       "Adzuki Beans    100\n",
       "Coconut         100\n",
       "Rubber          100\n",
       "maize           100\n",
       "Lentil          100\n",
       "Jute            100\n",
       "Peas            100\n",
       "Ground Nut      100\n",
       "Pigeon Peas     100\n",
       "Chickpea        100\n",
       "mango           100\n",
       "orange          100\n",
       "papaya          100\n",
       "Moth Beans      100\n",
       "millet          100\n",
       "pomegranate     100\n",
       "Kidney Beans    100\n",
       "Name: label, dtype: int64"
      ]
     },
     "execution_count": 39,
     "metadata": {},
     "output_type": "execute_result"
    }
   ],
   "source": [
    "data['label'].value_counts()"
   ]
  },
  {
   "cell_type": "code",
   "execution_count": 40,
   "metadata": {},
   "outputs": [
    {
     "data": {
      "text/plain": [
       "Index(['temperature', 'humidity', 'AvN%(dry)', 'AvP%(dry)', 'AvK%(dry)',\n",
       "       'moisture', 'season', 'rainfall', 'label'],\n",
       "      dtype='object')"
      ]
     },
     "execution_count": 40,
     "metadata": {},
     "output_type": "execute_result"
    }
   ],
   "source": [
    "data.columns"
   ]
  },
  {
   "cell_type": "code",
   "execution_count": 41,
   "metadata": {},
   "outputs": [
    {
     "data": {
      "text/html": [
       "<div>\n",
       "<style scoped>\n",
       "    .dataframe tbody tr th:only-of-type {\n",
       "        vertical-align: middle;\n",
       "    }\n",
       "\n",
       "    .dataframe tbody tr th {\n",
       "        vertical-align: top;\n",
       "    }\n",
       "\n",
       "    .dataframe thead th {\n",
       "        text-align: right;\n",
       "    }\n",
       "</style>\n",
       "<table border=\"1\" class=\"dataframe\">\n",
       "  <thead>\n",
       "    <tr style=\"text-align: right;\">\n",
       "      <th></th>\n",
       "      <th>temperature</th>\n",
       "      <th>humidity</th>\n",
       "      <th>AvN%(dry)</th>\n",
       "      <th>AvP%(dry)</th>\n",
       "      <th>AvK%(dry)</th>\n",
       "      <th>moisture</th>\n",
       "      <th>season</th>\n",
       "      <th>rainfall</th>\n",
       "    </tr>\n",
       "  </thead>\n",
       "  <tbody>\n",
       "    <tr>\n",
       "      <th>0</th>\n",
       "      <td>20.879744</td>\n",
       "      <td>82.002744</td>\n",
       "      <td>1.364771</td>\n",
       "      <td>0.109570</td>\n",
       "      <td>0.747573</td>\n",
       "      <td>6.502985</td>\n",
       "      <td>2</td>\n",
       "      <td>202.935536</td>\n",
       "    </tr>\n",
       "    <tr>\n",
       "      <th>1</th>\n",
       "      <td>21.770462</td>\n",
       "      <td>80.319644</td>\n",
       "      <td>2.479714</td>\n",
       "      <td>0.267857</td>\n",
       "      <td>0.000000</td>\n",
       "      <td>7.038096</td>\n",
       "      <td>2</td>\n",
       "      <td>226.655537</td>\n",
       "    </tr>\n",
       "    <tr>\n",
       "      <th>2</th>\n",
       "      <td>23.004459</td>\n",
       "      <td>82.320763</td>\n",
       "      <td>2.144000</td>\n",
       "      <td>0.200000</td>\n",
       "      <td>1.490000</td>\n",
       "      <td>7.840207</td>\n",
       "      <td>2</td>\n",
       "      <td>263.964248</td>\n",
       "    </tr>\n",
       "    <tr>\n",
       "      <th>3</th>\n",
       "      <td>26.491096</td>\n",
       "      <td>80.158363</td>\n",
       "      <td>3.322074</td>\n",
       "      <td>0.310556</td>\n",
       "      <td>2.800000</td>\n",
       "      <td>6.980401</td>\n",
       "      <td>2</td>\n",
       "      <td>242.864034</td>\n",
       "    </tr>\n",
       "    <tr>\n",
       "      <th>4</th>\n",
       "      <td>20.130175</td>\n",
       "      <td>81.604873</td>\n",
       "      <td>2.417709</td>\n",
       "      <td>0.271054</td>\n",
       "      <td>1.897747</td>\n",
       "      <td>7.628473</td>\n",
       "      <td>1</td>\n",
       "      <td>262.717340</td>\n",
       "    </tr>\n",
       "  </tbody>\n",
       "</table>\n",
       "</div>"
      ],
      "text/plain": [
       "   temperature   humidity  AvN%(dry)  AvP%(dry)  AvK%(dry)  moisture  season  \\\n",
       "0    20.879744  82.002744   1.364771   0.109570   0.747573  6.502985       2   \n",
       "1    21.770462  80.319644   2.479714   0.267857   0.000000  7.038096       2   \n",
       "2    23.004459  82.320763   2.144000   0.200000   1.490000  7.840207       2   \n",
       "3    26.491096  80.158363   3.322074   0.310556   2.800000  6.980401       2   \n",
       "4    20.130175  81.604873   2.417709   0.271054   1.897747  7.628473       1   \n",
       "\n",
       "     rainfall  \n",
       "0  202.935536  \n",
       "1  226.655537  \n",
       "2  263.964248  \n",
       "3  242.864034  \n",
       "4  262.717340  "
      ]
     },
     "execution_count": 41,
     "metadata": {},
     "output_type": "execute_result"
    }
   ],
   "source": [
    "X = data.drop('label' ,axis =1)\n",
    "X.head()"
   ]
  },
  {
   "cell_type": "code",
   "execution_count": 42,
   "metadata": {},
   "outputs": [
    {
     "name": "stdout",
     "output_type": "stream",
     "text": [
      "['Adzuki Beans', 'Black gram', 'Chickpea', 'Coconut', 'Coffee', 'Cotton', 'Ground Nut', 'Jute', 'Kidney Beans', 'Lentil', 'Moth Beans', 'Mung Bean', 'Peas', 'Pigeon Peas', 'Rubber', 'Sugarcane', 'Tea', 'Tobacco', 'apple', 'banana', 'grapes', 'maize', 'mango', 'millet', 'muskmelon', 'orange', 'papaya', 'pomegranate', 'rice', 'watermelon', 'wheat']\n",
      "31\n"
     ]
    }
   ],
   "source": [
    "print(sorted(data['label'].unique()))\n",
    "print(len(data['label'].unique()))"
   ]
  },
  {
   "cell_type": "code",
   "execution_count": 43,
   "metadata": {},
   "outputs": [],
   "source": [
    "from sklearn.preprocessing import LabelEncoder\n",
    "le = LabelEncoder()\n",
    "data['label'] = le.fit_transform(data['label'])\n",
    "decoder = le.classes_"
   ]
  },
  {
   "cell_type": "code",
   "execution_count": 44,
   "metadata": {},
   "outputs": [
    {
     "name": "stdout",
     "output_type": "stream",
     "text": [
      "['Adzuki Beans' 'Black gram' 'Chickpea' 'Coconut' 'Coffee' 'Cotton'\n",
      " 'Ground Nut' 'Jute' 'Kidney Beans' 'Lentil' 'Moth Beans' 'Mung Bean'\n",
      " 'Peas' 'Pigeon Peas' 'Rubber' 'Sugarcane' 'Tea' 'Tobacco' 'apple'\n",
      " 'banana' 'grapes' 'maize' 'mango' 'millet' 'muskmelon' 'orange' 'papaya'\n",
      " 'pomegranate' 'rice' 'watermelon' 'wheat']\n"
     ]
    },
    {
     "data": {
      "text/plain": [
       "0    28\n",
       "1    28\n",
       "2    28\n",
       "3    28\n",
       "4    28\n",
       "Name: label, dtype: int32"
      ]
     },
     "execution_count": 44,
     "metadata": {},
     "output_type": "execute_result"
    }
   ],
   "source": [
    "print(decoder)\n",
    "y = data['label']\n",
    "y.head()"
   ]
  },
  {
   "cell_type": "code",
   "execution_count": 45,
   "metadata": {},
   "outputs": [],
   "source": [
    "from sklearn.model_selection import train_test_split\n",
    "X_train,X_test,y_train,y_test = train_test_split(X,y,test_size = 0.2, random_state=42)"
   ]
  },
  {
   "cell_type": "code",
   "execution_count": 47,
   "metadata": {
    "colab": {
     "base_uri": "https://localhost:8080/"
    },
    "id": "6r_CmEv6U80R",
    "outputId": "e6b5cb4e-6003-41d9-c4bc-8c399fd36c5a"
   },
   "outputs": [
    {
     "name": "stdout",
     "output_type": "stream",
     "text": [
      "The accuracy of this model is:  90.80645161290323\n"
     ]
    }
   ],
   "source": [
    "#Importing Decision Tree classifier\n",
    "from sklearn.tree import DecisionTreeClassifier\n",
    "\n",
    "DT=DecisionTreeClassifier()\n",
    "\n",
    "#Fitting the classifier into training set\n",
    "DT.fit(X_train,y_train)\n",
    "\n",
    "a= DT.score(X_test, y_test)\n",
    "print(\"The accuracy of this model is: \", a*100)"
   ]
  },
  {
   "cell_type": "code",
   "execution_count": 48,
   "metadata": {
    "colab": {
     "base_uri": "https://localhost:8080/"
    },
    "id": "aJeeLbhFVV0X",
    "outputId": "780c4978-d6b4-478b-842a-d36b7446e029"
   },
   "outputs": [
    {
     "name": "stdout",
     "output_type": "stream",
     "text": [
      "The accuracy of this model is:  93.54838709677419\n"
     ]
    }
   ],
   "source": [
    "from sklearn.ensemble import RandomForestClassifier\n",
    "RF = RandomForestClassifier(n_estimators = 200, criterion = 'entropy', random_state = 0)\n",
    "RF.fit(X_train,y_train)\n",
    "pred_RF=RF.predict(X_test)\n",
    "\n",
    "# Finding the accuracy of the model\n",
    "a=RF.score(X_test, y_test)\n",
    "print(\"The accuracy of this model is: \", a*100)"
   ]
  },
  {
   "cell_type": "code",
   "execution_count": 49,
   "metadata": {},
   "outputs": [
    {
     "name": "stdout",
     "output_type": "stream",
     "text": [
      "28\n"
     ]
    },
    {
     "data": {
      "text/plain": [
       "'rice'"
      ]
     },
     "execution_count": 49,
     "metadata": {},
     "output_type": "execute_result"
    }
   ],
   "source": [
    "#test\n",
    "tp = [[22.30157427,80.64416466,2.856,0.285,1.92,6.043304899,2,197.9791215]]\n",
    "tr = RF.predict(tp)\n",
    "tr = int(tr)\n",
    "print(tr)\n",
    "decoder[tr]"
   ]
  },
  {
   "cell_type": "code",
   "execution_count": 51,
   "metadata": {
    "colab": {
     "base_uri": "https://localhost:8080/"
    },
    "id": "AKGtXvjwYKCT",
    "outputId": "0847df68-eca3-4cc8-89af-917ff4de8d45"
   },
   "outputs": [
    {
     "name": "stdout",
     "output_type": "stream",
     "text": [
      "wheat\n",
      "Tobacco\n",
      "Tobacco\n",
      "Tobacco\n",
      "Tobacco\n",
      "maize\n"
     ]
    }
   ],
   "source": [
    "#Make GUI for This Section only \n",
    "\n",
    "from tkinter import *\n",
    "from PIL import Image, ImageTk\n",
    "\n",
    "root=Tk()\n",
    "root.title(\"Crop Prediction App\")\n",
    "root.geometry(\"550x400\")\n",
    "root.resizable(False,False)\n",
    "root.configure(bg = \"pale green\")\n",
    "\n",
    "bg_image = ImageTk.PhotoImage(Image.open(\"./images/background.png\").resize((550, 400)))\n",
    "background = Label(root, image = bg_image)\n",
    "background.photo = bg_image\n",
    "background.place(x=0, y=0, relwidth=1, relheight=1)\n",
    "\n",
    "global image\n",
    "\n",
    "columns = data.columns.tolist()\n",
    "\n",
    "frame1 = Frame(root, bd = 3, relief = SUNKEN)\n",
    "title = Label(frame1, text = \"Crop Prediction System\", font = (\"Comic Sans MS\", 20, \"bold\"), bg = \"yellow4\")\n",
    "# title.grid(row=0, column = 0, columnspan =2)\n",
    "title.grid(row=0, column=0, columnspan = 2)\n",
    "frame1.place(relx=0.18, rely=0.0, anchor = NW)\n",
    "\n",
    "inputFrame = Frame(root, bd = 3, bg = \"yellow4\", relief = SUNKEN)\n",
    "outputFrame = Frame(root, bd = 3, bg = \"yellow4\", relief=SUNKEN)\n",
    "\n",
    "e1 = Entry(inputFrame, width = 10)\n",
    "e2 = Entry(inputFrame, width = 10)\n",
    "e3 = Entry(inputFrame, width = 10)\n",
    "e4 = Entry(inputFrame, width = 10)\n",
    "e5 = Entry(inputFrame, width = 10)\n",
    "e6 = Entry(inputFrame, width = 10)\n",
    "e7 = Entry(inputFrame, width = 10)\n",
    "e8 = Entry(inputFrame, width = 10)\n",
    "\n",
    "entryBoxes = [e1,e2,e3,e4,e5,e6,e7, e8]\n",
    "\n",
    "#REMOVE THIS PART IF THE DEFAULT VALUES FOR ENTRIES NOT NEEDED\n",
    "###########################################################################\n",
    "vals= [22.7,51.51,1.192,0.35,2.32,6.18,1,82.5148]\n",
    "\n",
    "for i in range(len(entryBoxes)):\n",
    "    entryBoxes[i].insert(0, str(vals[i]))\n",
    "###########################################################################\n",
    "\n",
    "labelsFont = (\"Comic Sans MS\", 10, \"italic\")\n",
    "\n",
    "\n",
    "for i in range(8):\n",
    "    label = Label(inputFrame, text = columns[i].title()+\": \", font = labelsFont, bg = \"yellow4\", padx=5, pady=5)\n",
    "    label.grid(row=i, column = 0)\n",
    "    entryBoxes[i].grid(row = i, column=1, padx = 3) \n",
    "\n",
    "inputFrame.place(relx = 0.05, rely = 0.17)\n",
    "outputFrame.place(relx = 0.47, rely = 0.25)\n",
    "def Predict():\n",
    "    x_pred = []\n",
    "    for i in range(8):\n",
    "        entered = float(entryBoxes[i].get())\n",
    "        x_pred.append(entered)\n",
    "\n",
    "    x_pred = [x_pred]\n",
    "\n",
    "    prediction_index = int(RF.predict(x_pred))\n",
    "    result = decoder[prediction_index]\n",
    "    print(result)\n",
    "    \n",
    "    crop_img = Image.open(\"./images/\"+result.lower()+\".png\").resize((250, 190))\n",
    "    image = ImageTk.PhotoImage(crop_img)\n",
    "#     canvas.create_image(20,20, anchor=NW, image=image)\n",
    "    img = Label(outputFrame, image=image)\n",
    "    img.photo = image\n",
    "    # Showing the output value\n",
    "    resLabel = Label(outputFrame, text = \"Prediction: \" + result.title(), font = (\"Arial Bold\",15), bg = \"yellow4\", padx=10)\n",
    "    resLabel.grid(row=2, column = 3, columnspan = 7, pady = 3)\n",
    "    img.grid(row=3, column = 3, columnspan = 7, rowspan = 5)\n",
    "\n",
    "inputButton = Button(inputFrame, text = \"Predict\", command = Predict, padx = 1, pady = 5)\n",
    "inputButton.grid(row = 8, column = 0, columnspan = 2, padx = 5, pady = 5)\n",
    "\n",
    "root.mainloop()"
   ]
  },
  {
   "cell_type": "code",
   "execution_count": null,
   "metadata": {},
   "outputs": [],
   "source": []
  }
 ],
 "metadata": {
  "colab": {
   "collapsed_sections": [],
   "name": "Crop_Prediction.ipynb",
   "provenance": []
  },
  "kernelspec": {
   "display_name": "Python 3",
   "language": "python",
   "name": "python3"
  },
  "language_info": {
   "codemirror_mode": {
    "name": "ipython",
    "version": 3
   },
   "file_extension": ".py",
   "mimetype": "text/x-python",
   "name": "python",
   "nbconvert_exporter": "python",
   "pygments_lexer": "ipython3",
   "version": "3.8.10"
  }
 },
 "nbformat": 4,
 "nbformat_minor": 1
}
